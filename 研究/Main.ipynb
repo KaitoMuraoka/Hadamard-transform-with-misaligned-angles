{
 "cells": [
  {
   "cell_type": "code",
   "execution_count": null,
   "metadata": {
    "collapsed": false
   },
   "outputs": [],
   "source": [
    "## ライブラリのインポート\n",
    "import matplotlib.pyplot as plt\n",
    "import japanize_matplotlib\n",
    "import numpy as np\n",
    "import time\n",
    "import random\n",
    "from qulacs import QuantumState\n",
    "from qulacs.state import inner_product\n",
    "from qulacs import QuantumCircuit\n",
    "from qulacs.gate import to_matrix_gate\n",
    "from qulacs import QuantumState\n",
    "from qulacs.gate import Identity, X,Y,Z #パウリ演算子\n",
    "from qulacs.gate import H\n",
    "from qulacs.gate import RX,RY,RZ #パウリ演算子についての回転演算\n",
    "from qulacs.gate import U1,U2,U3 #IBMQの基底ゲート\n",
    "\n",
    "from fractions import Fraction\n"
   ]
  },
  {
   "cell_type": "markdown",
   "metadata": {
    "collapsed": false
   },
   "source": [
    "## 理想的な回路作成"
   ]
  },
  {
   "cell_type": "code",
   "execution_count": null,
   "metadata": {
    "collapsed": false
   },
   "outputs": [],
   "source": [
    "# # 係数の絶対値の分布をプロットする関数\n",
    "# def show_distribution(state, nqubits):\n",
    "#     plt.bar([i for i in range(pow(2, nqubits))], abs(state.get_vector()))\n",
    "#     plt.xlabel(f'$2^{nqubits}$個のデータ')\n",
    "#     plt.ylabel('各状態の確率振幅')\n",
    "#     plt.ylim(0, 1)\n",
    "#     plt.show()\n",
    "\n",
    "# import made_graph as graph"
   ]
  },
  {
   "cell_type": "markdown",
   "metadata": {
    "collapsed": false
   },
   "source": [
    "###　動作の確認\n",
    "初期状態$|0 \\cdots 0\\rangle$を作成"
   ]
  },
  {
   "cell_type": "code",
   "execution_count": null,
   "metadata": {
    "collapsed": false
   },
   "outputs": [],
   "source": [
    "# 全体のパラメータ\n",
    "nqubits = 3\n",
    "times = 4"
   ]
  },
  {
   "cell_type": "code",
   "execution_count": null,
   "metadata": {
    "collapsed": false
   },
   "outputs": [],
   "source": [
    "import matplotlib.ticker as ticker\n",
    "state1 = QuantumState(nqubits)\n",
    "state1.set_zero_state()"
   ]
  },
  {
   "cell_type": "markdown",
   "metadata": {
    "collapsed": false
   },
   "source": [
    "次にアダマールゲートを作成する\n",
    "$$\n",
    "H = \\frac{1}{\\sqrt{2}}(|0\\rangle \\langle 0 | + |1\\rangle \\langle 0| + |0\\rangle \\langle 1| + |1\\rangle \\langle 1|)\n",
    "$$"
   ]
  },
  {
   "cell_type": "code",
   "execution_count": null,
   "metadata": {
    "collapsed": false
   },
   "outputs": [],
   "source": [
    "# def make_Hadamard(nqubits):\n",
    "#     Hadamard = QuantumCircuit(nqubits)\n",
    "#     for i in range(nqubits):\n",
    "#         Hadamard.add_gate(H(i))\n",
    "#     return  Hadamard\n",
    "import operation"
   ]
  },
  {
   "cell_type": "markdown",
   "metadata": {
    "collapsed": false
   },
   "source": [
    "このアダマールゲートを初期状態$|00 \\cdots 00\\rangle$に作用させる。\n",
    "$$\n",
    "|s\\rangle = (H\\otimes \\cdots \\otimes H)|0 \\cdots 0 \\rangle \\\\\n",
    "= \\frac{1}{(\\sqrt{2})^n}(|0\\rangle + |1\\rangle)\\otimes \\cdots \\otimes (|0\\rangle + |1\\rangle) \\\\\n",
    "= \\frac{1}{(\\sqrt{2})^n}(|00 \\cdots 00\\rangle + |00\\cdots 01\\rangle + \\cdots + |11 \\cdots 10\\rangle + |11\\cdots 11\\rangle)|s\\rangle \\\\\n",
    "= \\frac{1}{(\\sqrt{2})^n}\\sum^{2^n - 1}_{x = 0} |x\\rangle\n",
    "$$"
   ]
  },
  {
   "cell_type": "code",
   "execution_count": null,
   "metadata": {
    "collapsed": false
   },
   "outputs": [],
   "source": [
    "# Hadamard = make_Hadamard(nqubits)\n",
    "Hadamard = operation.Hadamard(nqubits)\n",
    "Hadamard.update_quantum_state(state1)\n",
    "\n",
    "# show_distribution(state1, nqubits)\n",
    "import  made_graph as graph\n",
    "graph.show_distribution(state1, nqubits)"
   ]
  },
  {
   "cell_type": "markdown",
   "metadata": {
    "collapsed": false
   },
   "source": [
    "次に解に対する反転操作をする、オラクル$U_w$を作成する。\n",
    "\n",
    "入力$|x\\rangle$に対して$x$が解なら、$-1$を掛けて位相を反転し、解でないなら$1$を掛ける。"
   ]
  },
  {
   "cell_type": "markdown",
   "metadata": {
    "collapsed": false
   },
   "source": [
    "$$\n",
    "\\begin{cases}\n",
    "    U_w|x\\rangle = |x\\rangle (x \\neq w) \\\\\n",
    "    U_w|w\\rangle = -|w\\rangle\n",
    "  \\end{cases}\n",
    "$$\n",
    "\n",
    "$$\n",
    "U_w = I - 2 \\sum_{w \\in \\text{解}} |w\\rangle \\langle w|\n",
    "$$"
   ]
  },
  {
   "cell_type": "code",
   "execution_count": null,
   "metadata": {
    "collapsed": false
   },
   "outputs": [],
   "source": [
    "# オラクルU_wの作成\n",
    "def make_U_w(nqubits):\n",
    "    U_w = QuantumCircuit(nqubits)\n",
    "    CnZ = to_matrix_gate(Z(nqubits-1))\n",
    "    # i-th qubitが全て1の場合だけゲートを作用\n",
    "    for i in range(nqubits-1):\n",
    "        control_index = i\n",
    "        control_with_value = 1\n",
    "        CnZ.add_control_qubit(control_index, control_with_value)\n",
    "    U_w.add_gate(CnZ)\n",
    "    return U_w"
   ]
  },
  {
   "cell_type": "markdown",
   "metadata": {
    "collapsed": false
   },
   "source": [
    "これを作用させると$|s\\rangle$\n",
    "$$\n",
    "U_w |s\\rangle = \\frac{1}{(\\sqrt{2})^n} \\sum_{x = 0, x \\neq w}^{2^n - 1} U_w |x\\rangle + \\frac{1}{(\\sqrt{2})^n} U_w |x\\rangle \\\\\n",
    "\n",
    "= \\frac{1}{(\\sqrt{2})^n} \\sum_{x = 0, x \\neq w}^{2^n - 1} |x\\rangle - \\frac{1}{(\\sqrt{2})^n}|w\\rangle \\\\\n",
    "\n",
    "= \\left( |s\\rangle - \\frac{1}{(\\sqrt{2})^n} |w\\rangle \\right) - \\frac{1}{(\\sqrt{2})^n} |w\\rangle \\\\\n",
    "\n",
    "U_w |s\\rangle = |s\\rangle - \\frac{2}{(\\sqrt{2})^n} |w\\rangle\n",
    "$$\n",
    "\n",
    "となる。"
   ]
  },
  {
   "cell_type": "code",
   "execution_count": null,
   "metadata": {
    "collapsed": false
   },
   "outputs": [],
   "source": [
    "fuga = state1.copy()\n",
    "U_w = make_U_w(nqubits)\n",
    "U_w.update_quantum_state(fuga)\n",
    "# print(fuga.get_vector())\n",
    "print(fuga)"
   ]
  },
  {
   "cell_type": "markdown",
   "metadata": {
    "collapsed": false
   },
   "source": [
    "最後に$|s\\rangle$を対象軸にした反転操作$U_s$を定義する\n",
    "\n",
    "$$\n",
    "U_s = 2|s\\rangle \\langle s| - I = H^{\\otimes n}(2 |0 \\cdots 0\\rangle \\langle 0 \\cdots 0| - I)H^{\\otimes n}\n",
    "$$\n",
    "\n",
    "$$\n",
    "\\begin{cases}\n",
    "    U_s |x\\rangle = 2\\langle s|x|s\\rangle - |x\\rangle = \\frac{2}{\\sqrt{2^n}} |x\\rangle \\\\\n",
    "    U_s |s\\rangle = 2\\langle s|s|s\\rangle - |s\\rangle = |s\\rangle\n",
    " \\end{cases}\n",
    "$$"
   ]
  },
  {
   "cell_type": "code",
   "execution_count": null,
   "metadata": {
    "collapsed": false
   },
   "outputs": [],
   "source": [
    "# 反転U_sを作る\n",
    "def make_U_s(nqubits):\n",
    "    U_s = QuantumCircuit(nqubits)\n",
    "    for i in range(nqubits):\n",
    "        U_s.add_gate(H(i))\n",
    "\n",
    "    ## 2|0><0| - I の実装\n",
    "    U_s.add_gate(to_matrix_gate(RZ(nqubits-1, 2*np.pi))) ## まず、位相(-1)を全ての状態に付与する。ゲート行列はarrary([[-1,0],[0,-1]])\n",
    "    U_s.add_gate( X(nqubits-1) )\n",
    "    ## 全てのi-th qubitが0の場合だけZゲートを作用させる\n",
    "    CnZ = to_matrix_gate(Z(nqubits-1))\n",
    "    for i in range(nqubits-1):\n",
    "        control_index = i\n",
    "        control_with_value = 0\n",
    "        CnZ.add_control_qubit(control_index, control_with_value)\n",
    "    U_s.add_gate( CnZ )\n",
    "    U_s.add_gate( X(nqubits-1) )\n",
    "\n",
    "    for i in range(nqubits):\n",
    "        U_s.add_gate(H(i))\n",
    "\n",
    "    return U_s"
   ]
  },
  {
   "cell_type": "code",
   "execution_count": null,
   "outputs": [],
   "source": [
    "## 初期状態の準備\n",
    "state1 = QuantumState(nqubits)\n",
    "state1.set_zero_state()\n",
    "Hadamard.update_quantum_state(state1)\n",
    "\n",
    "## U_s U_w を作用\n",
    "U_s = make_U_s(nqubits)\n",
    "U_w.update_quantum_state(state1)\n",
    "U_s.update_quantum_state(state1)\n",
    "# show_distribution(state1, nqubits)\n",
    "graph.show_distribution(state1, nqubits)\n"
   ],
   "metadata": {
    "collapsed": false
   }
  },
  {
   "cell_type": "code",
   "execution_count": null,
   "metadata": {
    "collapsed": false
   },
   "outputs": [],
   "source": [
    "# 何回か繰り返す\n",
    "## 内積を評価するために 解状態 |1...1> を作っておく\n",
    "target_state = QuantumState(nqubits)\n",
    "target_state.set_computational_basis(2**nqubits-1) ## 2**n_qubits-1 は 2進数で 1...1\n",
    "\n",
    "## グローバーのアルゴリズムの実行\n",
    "state1 = QuantumState(nqubits)\n",
    "state1.set_zero_state()\n",
    "\n",
    "Hadamard.update_quantum_state(state1)\n",
    "\n",
    "avg_result = []\n",
    "for i in range(4):\n",
    "    U_w.update_quantum_state(state1)\n",
    "    U_s.update_quantum_state(state1)\n",
    "    # show_distribution(state1, nqubits)\n",
    "    graph.show_distribution(state1, nqubits)\n",
    "    fuga = np.linalg.norm(inner_product(state1, target_state))\n",
    "    avg_result.append(fuga)\n",
    "    print(fuga)"
   ]
  },
  {
   "cell_type": "code",
   "execution_count": null,
   "metadata": {
    "collapsed": false
   },
   "outputs": [],
   "source": [
    "## 初期状態の準備\n",
    "state1 = QuantumState(nqubits)\n",
    "state1.set_zero_state()\n",
    "Hadamard.update_quantum_state(state1)\n",
    "\n",
    "avg_result = []\n",
    "hoge = np.linalg.norm(inner_product(state1, target_state))\n",
    "avg_result.append(hoge)\n",
    "for i in range(times):\n",
    "    U_w.update_quantum_state(state1)\n",
    "    U_s.update_quantum_state(state1)\n",
    "    fuga = np.linalg.norm(inner_product(state1, target_state))\n",
    "    avg_result.append(fuga)\n",
    "    print(fuga)\n",
    "\n",
    "plt.xlabel('オラクルの試行回数k')\n",
    "plt.ylabel('|11...11>の確率振幅')\n",
    "plt.ylim(0, 1)\n",
    "plt.xticks(np.arange(0, len(avg_result), step=1))\n",
    "plt.grid()\n",
    "plt.plot(avg_result, \"o-\")"
   ]
  },
  {
   "cell_type": "code",
   "execution_count": null,
   "metadata": {
    "collapsed": false
   },
   "outputs": [],
   "source": [
    "def line_graph(result, title):\n",
    "    plt.title(title)\n",
    "    plt.plot(result, \"o-\")\n",
    "    plt.xlabel('試行回数k')\n",
    "    plt.ylabel('解の確率振幅')\n",
    "    plt.ylim(0, 1)\n",
    "    plt.xticks(np.arange(0, len(result), step=1))\n",
    "    plt.grid()\n",
    "    plt.show()\n"
   ]
  },
  {
   "cell_type": "code",
   "execution_count": null,
   "metadata": {
    "collapsed": false
   },
   "outputs": [],
   "source": [
    "# グローバーのアルゴリズム\n",
    "def grover(nqubits, operate_times):\n",
    "    state = QuantumState(nqubits)\n",
    "    state.set_zero_state()\n",
    "\n",
    "    # 内積を評価するために 解状態 |1...1> を作っておく\n",
    "    target_state = QuantumState(nqubits)\n",
    "    target_state.set_computational_basis(2 ** nqubits - 1) # 2**n_qubits-1 は 2進数で 1...1\n",
    "\n",
    "    # グローバーのアルゴリズムの実行\n",
    "    # Hadamard = make_Hadamard(nqubits)\n",
    "    Hadamard = operation.Hadamard(nqubits)\n",
    "    U_w = make_U_w(nqubits)\n",
    "    U_s = make_U_s(nqubits)\n",
    "\n",
    "    result = []\n",
    "\n",
    "    state = QuantumState(nqubits)\n",
    "    state.set_zero_state()\n",
    "    Hadamard.update_quantum_state(state)\n",
    "    hoge = np.linalg.norm(inner_product(state, target_state))\n",
    "    result.append(hoge)\n",
    "    for k in range(operate_times):\n",
    "        U_w.update_quantum_state(state)\n",
    "        U_s.update_quantum_state(state)\n",
    "        fuga = np.linalg.norm(inner_product(state, target_state))\n",
    "        result.append(fuga)\n",
    "        # print(fuga)\n",
    "\n",
    "\n",
    "    max_k = np.argmax(result)\n",
    "    print(f'maximal probability {result[max_k]:5e} is obtained at k = {max_k}')\n",
    "    return  result, max_k, result[max_k]"
   ]
  },
  {
   "cell_type": "code",
   "execution_count": null,
   "metadata": {
    "collapsed": false
   },
   "outputs": [],
   "source": [
    "result_array = []\n",
    "result_theory, k_theory, p_kth= grover(nqubits, times)\n",
    "line_graph(result_theory, '理想的な回路')"
   ]
  },
  {
   "cell_type": "markdown",
   "metadata": {
    "collapsed": false
   },
   "source": [
    "## 任意の回転ゲート\n",
    "任意の回転ゲートでアダマール演算子を作成する\n",
    "\n",
    "Qulacsでは任意の回転ゲートを作成する際に、IBMQのOpenQASMを使用する。"
   ]
  },
  {
   "cell_type": "markdown",
   "metadata": {
    "collapsed": false
   },
   "source": [
    "以下のコードは、\n",
    "`U3(対象ビットの添字, \\theta, \\psi, \\lambda)`となっている。\n",
    "[参考資料](http://docs.qulacs.org/ja/latest/guide/2.0_python_advanced.html#id24)\n",
    "また、対象ビットの添字はQulacsの仕様上、$|00 \\cdots 00\\rangle$である場合、一番右から0番目の量子ビットになる\n",
    "[参考資料](https://docs.qulacs.org/ja/latest/intro/4.1_python_tutorial.html?highlight=%E5%AF%BE%E8%B1%A1%E3%83%93%E3%83%83%E3%83%88%E3%81%AE%E6%B7%BB%E3%81%88%E5%AD%97#id3)\n",
    "\n",
    "$$\n",
    "U(\\theta, \\phi, \\lambda) = \\begin{pmatrix}\n",
    "\\cos{\\frac{\\theta}{2}} & -e^{i \\lambda} \\sin{\\frac{\\theta}{2}} \\\\\n",
    "e^{i \\phi}\\cos{\\frac{\\theta}{2}} & e^{i (\\lambda + \\phi)}\\cos{\\frac{\\theta}{2}}\n",
    "\\end{pmatrix}\n",
    "$$"
   ]
  },
  {
   "cell_type": "code",
   "execution_count": null,
   "metadata": {
    "collapsed": false
   },
   "outputs": [],
   "source": [
    "from qulacs.gate import U3\n",
    "print(U3(0, np.pi/2, 0, np.pi))"
   ]
  },
  {
   "cell_type": "markdown",
   "metadata": {
    "collapsed": false
   },
   "source": [
    "\n",
    "### 任意の回転ゲートを利用してアダマールゲートを作成\n",
    "上記の内容を踏まえてアダマールゲートを作成する。\n",
    "$$\n",
    "H = \\frac{1}{\\sqrt{2}}\\begin{pmatrix}\n",
    "1 & 1 \\\\\n",
    "1 & -1\n",
    "\\end{pmatrix}\\\\\n",
    "= \\begin{pmatrix}\n",
    "\\cos{\\frac{\\pi}{4}} & -e^{i \\pi} \\sin{\\frac{\\pi}{4}} \\\\\n",
    "e^{i 0}\\cos{\\frac{\\pi}{4}} & e^{i (\\pi + 0)}\\cos{\\frac{\\pi}{4}}\n",
    "\\end{pmatrix} \\\\\n",
    "= U(\\frac{\\pi}{2}, 0, \\pi)\n",
    "$$\n",
    "これを用いて、以下のように作成する。\n"
   ]
  },
  {
   "cell_type": "code",
   "execution_count": null,
   "metadata": {
    "collapsed": false
   },
   "outputs": [],
   "source": [
    "def make_revolution_Hadamard(nqubits):\n",
    "    U_3 = QuantumCircuit(nqubits)\n",
    "    THETA = np.pi/2\n",
    "    PHI = 0\n",
    "    LAMBDA = np.pi\n",
    "    # 全てのqubitにゲートを作用\n",
    "    for i in range(nqubits):\n",
    "        control_index = i\n",
    "        U_3.add_gate(U3(control_index, THETA, PHI, LAMBDA))\n",
    "    return U_3"
   ]
  },
  {
   "cell_type": "markdown",
   "metadata": {
    "collapsed": false
   },
   "source": [
    "試しに、通常のアダマール演算子と比較してみる。"
   ]
  },
  {
   "cell_type": "code",
   "execution_count": null,
   "metadata": {
    "collapsed": false
   },
   "outputs": [],
   "source": [
    "# 通常のアダマール演算子を作成し、 初期化した3量子ビットに作用\n",
    "# Hadamard = make_Hadamard(3)\n",
    "Hadamard = operation.Hadamard(3)\n",
    "state1 = QuantumState(3)\n",
    "state1.set_zero_state()\n",
    "Hadamard.update_quantum_state(state1)\n",
    "print('通常のアダマールゲート')\n",
    "# show_distribution(state1, 3)\n",
    "graph.show_distribution(state1, 3)\n",
    "print(state1.get_vector())\n",
    "\n",
    "# アダマール演算子と同じ振る舞いをするよう作成した回転ゲートを、\n",
    "# 初期化した3量子ビットに作用\n",
    "revolution_Hadamard = make_revolution_Hadamard(3)\n",
    "state2 = QuantumState(3)\n",
    "state2.set_zero_state()\n",
    "revolution_Hadamard.update_quantum_state(state2)\n",
    "print(\"作成したアダマールゲート\")\n",
    "# show_distribution(state2, 3)\n",
    "graph.show_distribution(state2, 3)\n",
    "\n",
    "print(state2.get_vector())\n"
   ]
  },
  {
   "cell_type": "markdown",
   "metadata": {
    "collapsed": false
   },
   "source": [
    "どのくらいの誤差があるか調べる。"
   ]
  },
  {
   "cell_type": "code",
   "execution_count": null,
   "metadata": {
    "collapsed": false
   },
   "outputs": [],
   "source": [
    "state1.get_vector() == state2.get_vector()\n",
    "# 誤差\n",
    "absolute_error_array = []\n",
    "relative_error_array = []\n",
    "for i in range(len(state1.get_vector())):\n",
    "    absolute_error = state2.get_vector()[i] - state1.get_vector()[i]\n",
    "    absolute_error_array.append(absolute_error)\n",
    "    relative_error = absolute_error / state1.get_vector()[i]\n",
    "    relative_error_array.append(relative_error)\n",
    "\n",
    "print(f'絶対誤差：{absolute_error_array}')\n",
    "print(f'相対誤差：{relative_error_array}')\n"
   ]
  },
  {
   "cell_type": "markdown",
   "metadata": {
    "collapsed": false
   },
   "source": [
    "## 任意の回転ゲートを使用してグローバーアルゴリズムを行う。\n",
    "アダマール演算子と同じ振る舞いをする任意の回転ゲートを使用してグローバーアルゴリズムを行う。"
   ]
  },
  {
   "cell_type": "code",
   "execution_count": null,
   "metadata": {
    "collapsed": false
   },
   "outputs": [],
   "source": [
    "result = []\n",
    "def revolution_grover(nqubits, operate_times):\n",
    "    state = QuantumState(nqubits)\n",
    "    state.set_zero_state()\n",
    "\n",
    "    # 内積を評価するために 解状態 |1...1> を作っておく\n",
    "    target_state = QuantumState(nqubits)\n",
    "    target_state.set_computational_basis(2 ** nqubits - 1) # 2**n_qubits-1 は 2進数で 1...1\n",
    "\n",
    "    # グローバーのアルゴリズムの実行\n",
    "    # Hadamard = make_Hadamard(nqubits)\n",
    "    Hadamard = make_revolution_Hadamard(nqubits)\n",
    "    U_w = make_U_w(nqubits)\n",
    "    U_s = make_U_s(nqubits)\n",
    "\n",
    "    result = []\n",
    "\n",
    "    state = QuantumState(nqubits)\n",
    "    state.set_zero_state()\n",
    "    Hadamard.update_quantum_state(state)\n",
    "    hoge = np.linalg.norm(inner_product(state, target_state))\n",
    "    result.append(hoge)\n",
    "    for k in range(operate_times):\n",
    "        U_w.update_quantum_state(state)\n",
    "        U_s.update_quantum_state(state)\n",
    "        fuga = np.linalg.norm(inner_product(state, target_state))\n",
    "        result.append(fuga)\n",
    "        # print(fuga)\n",
    "\n",
    "\n",
    "    max_k = np.argmax(result)\n",
    "    return  result, max_k\n",
    "\n"
   ]
  },
  {
   "cell_type": "code",
   "execution_count": null,
   "metadata": {
    "collapsed": false
   },
   "outputs": [],
   "source": [
    "result, max_k = revolution_grover(nqubits, times)\n",
    "print(result)\n",
    "line_graph(result, '回転ゲートを使った理想回路')"
   ]
  },
  {
   "cell_type": "code",
   "execution_count": null,
   "metadata": {
    "collapsed": false
   },
   "outputs": [],
   "source": [
    "\n",
    "grover_result = grover(nqubits, times)\n",
    "print(grover_result)\n",
    "print(result)\n",
    "\n",
    "for i in range(len(grover_result)):\n",
    "    hoge = abs(result[i] - grover_result[i])\n",
    "    print(f'絶対誤差：{hoge}')\n"
   ]
  },
  {
   "cell_type": "markdown",
   "metadata": {
    "collapsed": false
   },
   "source": [
    "## 作成した回転ゲートをずらしていく\n",
    "\n",
    "作成した回転ゲートのy軸をずらしていく。\n",
    "変数`delta`には$\\theta$に加える角度を示す"
   ]
  },
  {
   "cell_type": "code",
   "execution_count": null,
   "metadata": {
    "collapsed": false
   },
   "outputs": [],
   "source": [
    "def make_noisy_Hadamard(nqubits, delta):\n",
    "    U_3 = QuantumCircuit(nqubits)\n",
    "    THETA = np.pi/2\n",
    "    PHI = 0\n",
    "    LAMBDA = np.pi\n",
    "    # 全てのqubitにゲートを作用\n",
    "    for i in range(nqubits):\n",
    "        control_index = i\n",
    "        U_3.add_gate(U3(control_index, THETA + delta, PHI, LAMBDA))\n",
    "    return U_3"
   ]
  },
  {
   "cell_type": "code",
   "execution_count": null,
   "metadata": {
    "collapsed": false
   },
   "outputs": [],
   "source": [
    "def noisy_grover(nqubits, operate_times, delta):\n",
    "    state = QuantumState(nqubits)\n",
    "    state.set_zero_state()\n",
    "\n",
    "    # 内積を評価するために 解状態 |1...1> を作っておく\n",
    "    target_state = QuantumState(nqubits)\n",
    "    target_state.set_computational_basis(2 ** nqubits - 1) # 2**n_qubits-1 は 2進数で 1...1\n",
    "\n",
    "    # グローバーのアルゴリズムの実行\n",
    "    # Hadamard = make_revolution_Hadamard(nqubits)\n",
    "    Hadamard = make_noisy_Hadamard(nqubits, delta)\n",
    "    U_w = make_U_w(nqubits)\n",
    "    U_s = make_U_s(nqubits)\n",
    "\n",
    "    result = []\n",
    "\n",
    "    state = QuantumState(nqubits)\n",
    "    state.set_zero_state()\n",
    "    Hadamard.update_quantum_state(state)\n",
    "    hoge = np.linalg.norm(inner_product(state, target_state))\n",
    "    result.append(hoge)\n",
    "    for k in range(operate_times):\n",
    "        U_w.update_quantum_state(state)\n",
    "        U_s.update_quantum_state(state)\n",
    "        fuga = np.linalg.norm(inner_product(state, target_state))\n",
    "        result.append(fuga)\n",
    "        # print(fuga)\n",
    "\n",
    "    max_k = np.argmax(result)\n",
    "    return  result, max_k, result[max_k]\n"
   ]
  },
  {
   "cell_type": "markdown",
   "metadata": {
    "collapsed": false
   },
   "source": [
    "### 3量子ビットで計算\n",
    "実際に、$\\delta = 0$~$2\\pi$を$\\theta$に加える"
   ]
  },
  {
   "cell_type": "code",
   "execution_count": null,
   "metadata": {
    "collapsed": false
   },
   "outputs": [],
   "source": [
    "noises = []\n",
    "noises_array = []\n",
    "n = 12\n",
    "for i in range(0, 2*n + 1):\n",
    "    sample = np.pi * i\n",
    "    result = sample / n\n",
    "    noises.append(result)\n",
    "    noises_array.append(f\"{i}π/{n}\")\n",
    "\n",
    "# noises_title = ['0','', '(π/4)',' ',  'π/2', '  ', '3π/4','   ', 'π', '    ', '5π/4', '     ', '3π/2', '      ', '7π/4', '       ', '2π']\n",
    "\n",
    "print(f'noises:{noises}')\n",
    "\n",
    "k_k_theory_array = []\n",
    "p_k_array = []\n",
    "p_kth_array = []\n",
    "\n",
    "for i in range(len(noises)):\n",
    "    result, max_k, p_k = noisy_grover(nqubits, times, noises[i])\n",
    "    k_k_theory = max_k - k_theory\n",
    "    p_k = result[max_k]\n",
    "    p_kth = result[k_theory]\n",
    "\n",
    "    line_graph(result, f'角度を{noises_array[i]}ズラした回路')\n",
    "    print(f'maximal probability {result[max_k]:5e} is obtained at k = {max_k}')\n",
    "    print(f'理想値\\k_therorとの差:{k_k_theory}')\n",
    "    print(f'実験値kの時の確率：{p_k:5e}')\n",
    "    print(f'理想値k_theoryの時の確率:{p_kth:5e}')\n",
    "    k_k_theory_array.append(k_k_theory)\n",
    "    p_k_array.append(p_k)\n",
    "    p_kth_array.append(p_kth)"
   ]
  },
  {
   "cell_type": "code",
   "execution_count": null,
   "metadata": {
    "collapsed": false
   },
   "outputs": [],
   "source": [
    "noises = []\n",
    "noises_array = []\n",
    "n = 12\n",
    "for i in range(0, 2*n + 1):\n",
    "    sample = np.pi * i\n",
    "    result = sample / n\n",
    "    noises.append(result)\n",
    "    noises_array.append(f\"{i}π/{n}\")\n",
    "\n",
    "noises_title = ['0', '(π/4)',  'π/2', '3π/4', 'π', '5π/4', '3π/2',  '7π/4',  '2π']\n",
    "noises_title_int = [0, (np.pi/4),  np.pi/2, 3*np.pi/4, np.pi, 5*np.pi/4, 3*np.pi/2,  7*np.pi/4,  2*np.pi]\n",
    "\n",
    "# print(f'noises:{noises}')\n",
    "\n",
    "k_k_theory_array = []\n",
    "p_k_array = []\n",
    "p_kth_array = []\n",
    "\n",
    "for i in range(len(noises)):\n",
    "    result, max_k, p_k = noisy_grover(nqubits, times, noises[i])\n",
    "    k_k_theory = max_k - k_theory\n",
    "    # k_k_theory = abs(max_k - k_theory)\n",
    "    p_k = result[max_k]\n",
    "    p_kth = result[k_theory]\n",
    "    k_k_theory_array.append(k_k_theory)\n",
    "    p_k_array.append(p_k)\n",
    "    p_kth_array.append(p_kth)\n"
   ]
  },
  {
   "cell_type": "markdown",
   "metadata": {
    "collapsed": false
   },
   "source": [
    "#### $k - k_{\\text{theory}}$のグラフ化\n",
    "理想的なグローバーの$U_s$, $U_w$を作用させる回数$k_{\\text{theory}}$と、実験で得られてたグローバーの$U_s$, $U_w$を作用させる回数$k$の差が与えたノイズ$\\delta_y$でどのように変化するか見てみる。"
   ]
  },
  {
   "cell_type": "code",
   "execution_count": null,
   "metadata": {
    "collapsed": false
   },
   "outputs": [],
   "source": [
    "def different_of_k_graph(x, y, yticks_start, yticks_end):\n",
    "    fig = plt.figure()\n",
    "    ax = fig.add_subplot(111)\n",
    "    ax.set_xticks(noises_title_int, noises_title)\n",
    "    ax.set_yticks(np.arange(yticks_start, yticks_end, 1))\n",
    "    ax.grid(axis = 'both')\n",
    "    ax.set_xlabel(\"与えたノイズδ\", size = 14, weight = \"light\")\n",
    "    ax.set_ylabel('(k) - (k_theory)', size = 14, weight = \"light\")\n",
    "    ax.plot(x, y, \"-o\")"
   ]
  },
  {
   "cell_type": "code",
   "execution_count": null,
   "metadata": {
    "collapsed": false
   },
   "outputs": [],
   "source": [
    "THREEk_k_theory_array = k_k_theory_array\n",
    "different_of_k_graph(noises, k_k_theory_array, -3, 3)"
   ]
  },
  {
   "cell_type": "markdown",
   "metadata": {
    "collapsed": false
   },
   "source": [
    "#### $P(k)$のグラフ化\n",
    "ノイズのあるグローバについて、$U_s$, $U_w$を作用させる回数$k$の時の確率がノイズ$\\delta_y$でどのように変化するか見てみる"
   ]
  },
  {
   "cell_type": "code",
   "execution_count": null,
   "metadata": {
    "collapsed": false
   },
   "outputs": [],
   "source": [
    "def P_k_graph(x, y):\n",
    "    fig = plt.figure()\n",
    "    ax = fig.add_subplot(111)\n",
    "    ax.set_xticks(noises_title_int, noises_title)\n",
    "    ax.set_ylim(0, 1)\n",
    "    ax.grid(axis = 'both')\n",
    "    ax.set_xlabel(\"与えたノイズδ\", size = 14, weight = \"light\")\n",
    "    ax.set_ylabel(\"解の確率振幅\", size = 14, weight = \"light\")\n",
    "    ax.plot(x, y, \"-o\")"
   ]
  },
  {
   "cell_type": "code",
   "execution_count": null,
   "metadata": {
    "collapsed": false
   },
   "outputs": [],
   "source": [
    "THREE_p_k_array = p_k_array\n",
    "P_k_graph(noises, p_k_array)\n"
   ]
  },
  {
   "cell_type": "markdown",
   "metadata": {
    "collapsed": false
   },
   "source": [
    "#### $P(k_{\\text{theory})$のグラフ化\n",
    "ノイズのあるグローバについて、理想的なグローバの$U_s$, $U_w$を作用させる回数$k_{\\text{theory}}$の時、確率がノイズ$\\delta_y$でどのように変化するのか見てみる\n"
   ]
  },
  {
   "cell_type": "code",
   "execution_count": null,
   "metadata": {
    "collapsed": false
   },
   "outputs": [],
   "source": [
    "def P_k_throry_graph(x, y):\n",
    "    fig = plt.figure()\n",
    "    ax = fig.add_subplot(111)\n",
    "    ax.set_xticks(noises_title_int, noises_title)\n",
    "    ax.set_ylim(0, 1)\n",
    "    ax.grid(axis = 'both')\n",
    "    ax.set_xlabel(\"与えたノイズδ\", size = 14, weight = \"light\")\n",
    "    ax.set_ylabel(\"理想値k_{theory}時の解の確率振幅\", size = 14, weight = \"light\")\n",
    "    ax.plot(x, y, \"-o\")"
   ]
  },
  {
   "cell_type": "code",
   "execution_count": null,
   "metadata": {
    "collapsed": false
   },
   "outputs": [],
   "source": [
    "THREE_p_kth_array = p_kth_array\n",
    "P_k_throry_graph(noises, p_kth_array)"
   ]
  },
  {
   "cell_type": "markdown",
   "metadata": {
    "collapsed": false
   },
   "source": [
    "## 5量子ビットで計算"
   ]
  },
  {
   "cell_type": "code",
   "execution_count": null,
   "metadata": {
    "collapsed": false
   },
   "outputs": [],
   "source": [
    "nqubits = 5\n",
    "times = 10"
   ]
  },
  {
   "cell_type": "code",
   "execution_count": null,
   "metadata": {
    "collapsed": false
   },
   "outputs": [],
   "source": [
    "result_array = []\n",
    "result_theory, k_theory, p_kth= grover(nqubits, times)\n",
    "line_graph(result_theory, '理想的な回路')"
   ]
  },
  {
   "cell_type": "code",
   "execution_count": null,
   "metadata": {
    "collapsed": false
   },
   "outputs": [],
   "source": [
    "noises_title = ['0','', '(π/4)',' ',  'π/2', '  ', '3π/4','   ', 'π', '    ', '5π/4', '     ', '3π/2', '      ', '7π/4', '       ', '2π']\n",
    "\n",
    "print(f'noises:{noises}')\n",
    "\n",
    "k_k_theory_array = []\n",
    "p_k_array = []\n",
    "p_kth_array = []\n",
    "\n",
    "for i in range(len(noises)):\n",
    "    result, max_k, p_k = noisy_grover(nqubits, times, noises[i])\n",
    "    k_k_theory = max_k - k_theory\n",
    "    p_k = result[max_k]\n",
    "    p_kth = result[k_theory]\n",
    "\n",
    "    line_graph(result, f'角度を{noises_array[i]}ズラした回路')\n",
    "    print(f'maximal probability {result[max_k]:5e} is obtained at k = {max_k}')\n",
    "    print(f'理想値\\k_therorとの差:{k_k_theory}')\n",
    "    print(f'実験値kの時の確率：{p_k:5e}')\n",
    "    print(f'理想値k_theoryの時の確率:{p_kth:5e}')\n",
    "    k_k_theory_array.append(k_k_theory)\n",
    "    p_k_array.append(p_k)\n",
    "    p_kth_array.append(p_kth)"
   ]
  },
  {
   "cell_type": "code",
   "execution_count": null,
   "metadata": {
    "collapsed": false
   },
   "outputs": [],
   "source": [
    "noises = []\n",
    "noises_array = []\n",
    "n = 12\n",
    "for i in range(0, 2*n + 1):\n",
    "    sample = np.pi * i\n",
    "    result = sample / n\n",
    "    noises.append(result)\n",
    "    noises_array.append(f\"{i}π/{n}\")\n",
    "\n",
    "noises_title = ['0', '(π/4)',  'π/2', '3π/4', 'π', '5π/4', '3π/2',  '7π/4',  '2π']\n",
    "noises_title_int = [0, (np.pi/4),  np.pi/2, 3*np.pi/4, np.pi, 5*np.pi/4, 3*np.pi/2,  7*np.pi/4,  2*np.pi]\n",
    "\n",
    "print(f'noises:{noises}')\n",
    "\n",
    "k_k_theory_array = []\n",
    "p_k_array = []\n",
    "p_kth_array = []\n",
    "\n",
    "for i in range(len(noises)):\n",
    "    result, max_k, p_k = noisy_grover(nqubits, times, noises[i])\n",
    "    k_k_theory = max_k - k_theory\n",
    "    # k_k_theory = abs(max_k - k_theory)\n",
    "    p_k = result[max_k]\n",
    "    p_kth = result[k_theory]\n",
    "    k_k_theory_array.append(k_k_theory)\n",
    "    p_k_array.append(p_k)\n",
    "    p_kth_array.append(p_kth)"
   ]
  },
  {
   "cell_type": "markdown",
   "metadata": {
    "collapsed": false
   },
   "source": [
    "#### $k - k_{\\text{theory}}$のグラフ化\n",
    "理想的なグローバーの$U_s$, $U_w$を作用させる回数$k_{\\text{theory}}$と、実験で得られてたグローバーの$U_s$, $U_w$を作用させる回数$k$の差が与えたノイズ$\\delta_y$でどのように変化するか見てみる。"
   ]
  },
  {
   "cell_type": "code",
   "execution_count": null,
   "metadata": {
    "collapsed": false
   },
   "outputs": [],
   "source": [
    "FIVE_k_k_theory_array = k_k_theory_array\n",
    "different_of_k_graph(noises, k_k_theory_array, -5, 7)\n",
    "# different_of_k_graph(noises, k_k_theory_array, 8, 4)"
   ]
  },
  {
   "cell_type": "markdown",
   "metadata": {
    "collapsed": false
   },
   "source": [
    "#### $P(k)$のグラフ化\n",
    "ノイズのあるグローバについて、$U_s$, $U_w$を作用させる回数$k$の時の確率がノイズ$\\delta_y$でどのように変化するか見てみる"
   ]
  },
  {
   "cell_type": "code",
   "execution_count": null,
   "metadata": {
    "collapsed": false
   },
   "outputs": [],
   "source": [
    "FIVE_p_k_array = p_k_array\n",
    "P_k_graph(noises, p_k_array)"
   ]
  },
  {
   "cell_type": "markdown",
   "metadata": {
    "collapsed": false
   },
   "source": [
    "#### $P(k_{\\text{theory})$のグラフ化\n",
    "ノイズのあるグローバについて、理想的なグローバの$U_s$, $U_w$を作用させる回数$k_{\\text{theory}}$の時、確率がノイズ$\\delta_y$でどのように変化するのか見てみる"
   ]
  },
  {
   "cell_type": "code",
   "execution_count": null,
   "metadata": {
    "collapsed": false
   },
   "outputs": [],
   "source": [
    "FIVE_p_kth_array = p_kth_array\n",
    "P_k_throry_graph(noises, p_kth_array)"
   ]
  },
  {
   "cell_type": "markdown",
   "metadata": {
    "collapsed": false
   },
   "source": [
    "## 10量子ビットで計算"
   ]
  },
  {
   "cell_type": "code",
   "execution_count": null,
   "metadata": {
    "collapsed": false
   },
   "outputs": [],
   "source": [
    "nqubits = 10\n",
    "times = 27"
   ]
  },
  {
   "cell_type": "code",
   "execution_count": null,
   "metadata": {
    "collapsed": false
   },
   "outputs": [],
   "source": [
    "result_array = []\n",
    "result_theory, k_theory, p_kth= grover(nqubits, times)\n",
    "line_graph(result_theory, '理想的な回路')"
   ]
  },
  {
   "cell_type": "code",
   "execution_count": null,
   "metadata": {
    "collapsed": false
   },
   "outputs": [],
   "source": [
    "noises_title = ['0','', '(π/4)',' ',  'π/2', '  ', '3π/4','   ', 'π', '    ', '5π/4', '     ', '3π/2', '      ', '7π/4', '       ', '2π']\n",
    "\n",
    "print(f'noises:{noises}')\n",
    "\n",
    "k_k_theory_array = []\n",
    "p_k_array = []\n",
    "p_kth_array = []\n",
    "\n",
    "for i in range(len(noises)):\n",
    "    result, max_k, p_k = noisy_grover(nqubits, times, noises[i])\n",
    "    k_k_theory = max_k - k_theory\n",
    "    p_k = result[max_k]\n",
    "    p_kth = result[k_theory]\n",
    "\n",
    "    line_graph(result, f'角度を{noises_array[i]}ズラした回路')\n",
    "    print(f'maximal probability {result[max_k]:5e} is obtained at k = {max_k}')\n",
    "    print(f'理想値\\k_therorとの差:{k_k_theory}')\n",
    "    print(f'実験値kの時の確率：{p_k:5e}')\n",
    "    print(f'理想値k_theoryの時の確率:{p_kth:5e}')\n",
    "    k_k_theory_array.append(k_k_theory)\n",
    "    p_k_array.append(p_k)\n",
    "    p_kth_array.append(p_kth)"
   ]
  },
  {
   "cell_type": "code",
   "execution_count": null,
   "metadata": {
    "collapsed": false
   },
   "outputs": [],
   "source": [
    "noises = []\n",
    "noises_array = []\n",
    "n = 12\n",
    "for i in range(0, 2*n + 1):\n",
    "    sample = np.pi * i\n",
    "    result = sample / n\n",
    "    noises.append(result)\n",
    "    noises_array.append(f\"{i}π/{n}\")\n",
    "\n",
    "noises_title = ['0', '(π/4)',  'π/2', '3π/4', 'π', '5π/4', '3π/2',  '7π/4',  '2π']\n",
    "noises_title_int = [0, (np.pi/4),  np.pi/2, 3*np.pi/4, np.pi, 5*np.pi/4, 3*np.pi/2,  7*np.pi/4,  2*np.pi]\n",
    "\n",
    "print(f'noises:{noises}')\n",
    "\n",
    "k_k_theory_array = []\n",
    "p_k_array = []\n",
    "p_kth_array = []\n",
    "\n",
    "for i in range(len(noises)):\n",
    "    result, max_k, p_k = noisy_grover(nqubits, times, noises[i])\n",
    "    k_k_theory = max_k - k_theory\n",
    "    p_k = result[max_k]\n",
    "    p_kth = result[k_theory]\n",
    "    k_k_theory_array.append(k_k_theory)\n",
    "    p_k_array.append(p_k)\n",
    "    p_kth_array.append(p_kth)"
   ]
  },
  {
   "cell_type": "markdown",
   "metadata": {
    "collapsed": false
   },
   "source": [
    "#### $k - k_{\\text{theory}}$のグラフ化\n",
    "理想的なグローバーの$U_s$, $U_w$を作用させる回数$k_{\\text{theory}}$と、実験で得られてたグローバーの$U_s$, $U_w$を作用させる回数$k$の差が与えたノイズ$\\delta_y$でどのように変化するか見てみる。"
   ]
  },
  {
   "cell_type": "code",
   "execution_count": null,
   "metadata": {
    "collapsed": false
   },
   "outputs": [],
   "source": [
    "TEN_k_k_theory_array = k_k_theory_array\n",
    "different_of_k_graph(noises, k_k_theory_array, -27, 1)"
   ]
  },
  {
   "cell_type": "markdown",
   "metadata": {
    "collapsed": false
   },
   "source": [
    "#### $P(k)$のグラフ化\n",
    "ノイズのあるグローバについて、$U_s$, $U_w$を作用させる回数$k$の時の確率がノイズ$\\delta_y$でどのように変化するか見てみる"
   ]
  },
  {
   "cell_type": "code",
   "execution_count": null,
   "metadata": {
    "collapsed": false
   },
   "outputs": [],
   "source": [
    "TEN_p_k_array = p_k_array\n",
    "P_k_graph(noises, p_k_array)"
   ]
  },
  {
   "cell_type": "markdown",
   "metadata": {
    "collapsed": false
   },
   "source": [
    "#### $P(k_{\\text{theory})$のグラフ化\n",
    "ノイズのあるグローバについて、理想的なグローバの$U_s$, $U_w$を作用させる回数$k_{\\text{theory}}$の時、確率がノイズ$\\delta_y$でどのように変化するのか見てみる"
   ]
  },
  {
   "cell_type": "code",
   "execution_count": null,
   "metadata": {
    "collapsed": false
   },
   "outputs": [],
   "source": [
    "TEN_p_kth_array = p_kth_array\n",
    "P_k_throry_graph(noises, p_kth_array)"
   ]
  },
  {
   "cell_type": "markdown",
   "metadata": {
    "collapsed": false
   },
   "source": [
    "## グラフを重ねてみる"
   ]
  },
  {
   "cell_type": "markdown",
   "metadata": {
    "collapsed": false
   },
   "source": [
    "#### $k - k_{\\text{theory}}$のグラフを重ねてみる"
   ]
  },
  {
   "cell_type": "code",
   "execution_count": null,
   "metadata": {
    "collapsed": false
   },
   "outputs": [],
   "source": [
    "fig = plt.figure()\n",
    "ax = fig.add_subplot(111)\n",
    "x = noises\n",
    "ax.set_xticks(noises_title_int, noises_title)\n",
    "ax.set_yticks(np.arange(-27, 8, 1))\n",
    "ax.grid(axis = 'both')\n",
    "ax.set_xlabel(\"与えたノイズδ\", size = 14, weight = \"light\")\n",
    "ax.set_ylabel(\"(k) - (k_theory)\", size = 14, weight = \"light\")\n",
    "l1, l2, l3 = \"3量子ビット\", \"5量子ビット\", \"10量子ビット\"\n",
    "ax.plot(x, THREEk_k_theory_array, \"-o\", label = l1)\n",
    "ax.plot(x, FIVE_k_k_theory_array, \"-+\", label = l2)\n",
    "ax.plot(x, TEN_k_k_theory_array, \"-x\", label = l3)\n",
    "ax.legend(loc = 0)"
   ]
  },
  {
   "cell_type": "markdown",
   "metadata": {
    "collapsed": false
   },
   "source": [
    "#### $P(k)$のグラフ化"
   ]
  },
  {
   "cell_type": "code",
   "execution_count": null,
   "metadata": {
    "collapsed": false
   },
   "outputs": [],
   "source": [
    "fig = plt.figure()\n",
    "ax = fig.add_subplot(111)\n",
    "x = noises\n",
    "ax.set_xticks(noises_title_int, noises_title)\n",
    "ax.grid(axis = 'both')\n",
    "ax.set_xlabel(\"与えたノイズδ\", size = 14, weight = \"light\")\n",
    "ax.set_ylabel(\"実験値kの時の確率\", size = 14, weight = \"light\")\n",
    "l1, l2, l3 = \"3量子ビット\", \"5量子ビット\", \"10量子ビット\"\n",
    "ax.plot(x, THREE_p_k_array, \"-o\", label = l1)\n",
    "ax.plot(x, FIVE_p_k_array, \"-+\", label = l2)\n",
    "ax.plot(x, TEN_p_k_array, \"-x\", label = l3)\n",
    "ax.legend(loc = 0)"
   ]
  },
  {
   "attachments": {},
   "cell_type": "markdown",
   "metadata": {
    "collapsed": false
   },
   "source": [
    "#### $P(k_{\\text{\\theta})$のグラフ化"
   ]
  },
  {
   "cell_type": "code",
   "execution_count": null,
   "metadata": {
    "collapsed": false
   },
   "outputs": [],
   "source": [
    "fig = plt.figure()\n",
    "ax = fig.add_subplot(111)\n",
    "x = noises\n",
    "ax.set_xticks(noises_title_int, noises_title)\n",
    "ax.grid(axis = 'both')\n",
    "ax.set_xlabel(\"与えたノイズδ\", size = 14, weight = \"light\")\n",
    "ax.set_ylabel(\"理想値k_theoryの時の確率\", size = 14, weight = \"light\")\n",
    "l1, l2, l3 = \"3量子ビット\", \"5量子ビット\", \"10量子ビット\"\n",
    "ax.plot(x, THREE_p_kth_array, \"-o\", label = l1)\n",
    "ax.plot(x, FIVE_p_kth_array, \"-+\", label = l2)\n",
    "ax.plot(x, TEN_p_kth_array, \"-x\", label = l3)\n",
    "ax.legend(loc = 0)\n"
   ]
  },
  {
   "cell_type": "markdown",
   "metadata": {
    "collapsed": false
   },
   "source": [
    "## $\\frac{\\pi}{2}$とその直前直後のグラフ\n",
    "$\\frac{\\pi}{2}$とその直前、直後のグラフを作成し、その違いを見てみる"
   ]
  },
  {
   "cell_type": "code",
   "execution_count": null,
   "metadata": {
    "collapsed": false
   },
   "outputs": [],
   "source": [
    "nqubits = 3\n",
    "times = 5\n",
    "\n",
    "result_array = []\n",
    "result_theory, k_theory, p_kth= grover(nqubits, times)\n",
    "line_graph(result_theory, '理想的な回路')"
   ]
  },
  {
   "cell_type": "code",
   "execution_count": null,
   "metadata": {
    "collapsed": false
   },
   "outputs": [],
   "source": [
    "noises = []\n",
    "noises_array = []\n",
    "n = 24\n",
    "for i in range(10, 14 + 1):\n",
    "    sample = np.pi * i\n",
    "    result = sample / n\n",
    "    noises.append(result)\n",
    "    noises_array.append(f\"{i}π/{n}\")\n",
    "\n",
    "for i in range(len(noises)):\n",
    "    result, max_k, p_k = noisy_grover(nqubits, times, noises[i])\n",
    "    k_k_theory = max_k - k_theory\n",
    "    # p_k = result[max_k]\n",
    "    # p_kth = result[k_theory]\n",
    "\n",
    "    line_graph(result, f'角度を{noises_array[i]}ズラした回路')\n",
    "    print(f'maximal probability {result[max_k]:5e} is obtained at k = {max_k}')\n",
    "    print(f'理想値\\k_therorとの差:{k_k_theory}')\n",
    "    print(f'実験値kの時の確率：{p_k:5e}')\n",
    "    print(f'理想値k_theoryの時の確率:{p_kth:5e}')\n",
    "    k_k_theory_array.append(k_k_theory)\n",
    "    p_k_array.append(p_k)\n",
    "    p_kth_array.append(p_kth)"
   ]
  },
  {
   "cell_type": "markdown",
   "metadata": {
    "collapsed": false
   },
   "source": [
    "## δ = πの時の状態"
   ]
  },
  {
   "cell_type": "code",
   "execution_count": null,
   "metadata": {
    "collapsed": false
   },
   "outputs": [],
   "source": [
    "## 初期状態の準備\n",
    "state1 = QuantumState(nqubits)\n",
    "state1.set_zero_state()\n",
    "Hadamard = make_noisy_Hadamard(3, np.pi)\n",
    "Hadamard.update_quantum_state(state1)\n",
    "# show_distribution(state1, nqubits)\n",
    "graph.show_distribution(state1, nqubits)\n",
    "\n",
    "## U_s U_w を作用\n",
    "U_s = make_U_s(nqubits)\n",
    "U_w.update_quantum_state(state1)\n",
    "U_s.update_quantum_state(state1)\n",
    "# show_distribution(state1, nqubits)\n",
    "graph.show_distribution(state1, nqubits)\n",
    "\n",
    "for _ in range(4):\n",
    "    U_s = make_U_s(nqubits)\n",
    "    U_w.update_quantum_state(state1)\n",
    "    U_s.update_quantum_state(state1)\n",
    "    # show_distribution(state1, nqubits)\n",
    "    graph.show_distribution(state1, nqubits)\n"
   ]
  },
  {
   "cell_type": "code",
   "execution_count": null,
   "metadata": {
    "collapsed": false
   },
   "outputs": [],
   "source": []
  }
 ],
 "metadata": {
  "kernelspec": {
   "display_name": "Python 3",
   "language": "python",
   "name": "python3"
  },
  "language_info": {
   "codemirror_mode": {
    "name": "ipython",
    "version": 3
   },
   "file_extension": ".py",
   "mimetype": "text/x-python",
   "name": "python",
   "nbconvert_exporter": "python",
   "pygments_lexer": "ipython3",
   "version": "3.8.13 (default, Aug 12 2022, 00:30:03) \n[Clang 13.1.6 (clang-1316.0.21.2.5)]"
  },
  "vscode": {
   "interpreter": {
    "hash": "9eb6511b5058d298ab93757724c483e06cf753eb8a18c90f785a5ce3f44f72ec"
   }
  }
 },
 "nbformat": 4,
 "nbformat_minor": 0
}
