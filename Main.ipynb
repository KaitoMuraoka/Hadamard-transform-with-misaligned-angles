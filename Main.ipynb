{
 "cells": [
  {
   "cell_type": "code",
   "execution_count": 1,
   "outputs": [],
   "source": [
    "## ライブラリのインポート\n",
    "import matplotlib.pyplot as plt\n",
    "import japanize_matplotlib\n",
    "import numpy as np\n",
    "import time\n",
    "import random\n",
    "from qulacs import QuantumState\n",
    "from qulacs.state import inner_product\n",
    "from qulacs import QuantumCircuit\n",
    "from qulacs.gate import to_matrix_gate\n",
    "from qulacs import QuantumState\n",
    "from qulacs.gate import Identity, X,Y,Z #パウリ演算子\n",
    "from qulacs.gate import H\n",
    "from qulacs.gate import RX,RY,RZ #パウリ演算子についての回転演算\n",
    "from qulacs.gate import U1,U2,U3 #IBMQの基底ゲート\n",
    "\n",
    "from fractions import Fraction"
   ],
   "metadata": {
    "collapsed": false
   }
  },
  {
   "cell_type": "markdown",
   "source": [
    "## 理想的な回路作成"
   ],
   "metadata": {
    "collapsed": false
   }
  },
  {
   "cell_type": "code",
   "execution_count": 2,
   "outputs": [],
   "source": [
    "# 係数の絶対値の分布をプロットする関数\n",
    "def show_distribution(state, nqubits):\n",
    "    plt.bar([i for i in range(pow(2, nqubits))], abs(state.get_vector()))\n",
    "    plt.xlabel('$2^5$個のデータ')\n",
    "    plt.ylabel('|11...11>の確率振幅')\n",
    "    plt.ylim(0, 1)\n",
    "    plt.show()"
   ],
   "metadata": {
    "collapsed": false
   }
  },
  {
   "cell_type": "markdown",
   "source": [
    "###　動作の確認\n",
    "初期状態$|0 \\cdots 0\\rangle$を作成"
   ],
   "metadata": {
    "collapsed": false
   }
  },
  {
   "cell_type": "code",
   "execution_count": 3,
   "outputs": [],
   "source": [
    "# 全体のパラメータ\n",
    "nqubits = 3\n",
    "times = 4"
   ],
   "metadata": {
    "collapsed": false
   }
  },
  {
   "cell_type": "code",
   "execution_count": 4,
   "outputs": [],
   "source": [
    "import matplotlib.ticker as ticker\n",
    "state1 = QuantumState(nqubits)\n",
    "state1.set_zero_state()"
   ],
   "metadata": {
    "collapsed": false
   }
  },
  {
   "cell_type": "markdown",
   "source": [
    "次にアダマールゲートを作成する\n",
    "$$\n",
    "H = \\frac{1}{\\sqrt{2}}(|0\\rangle \\langle 0 | + |1\\rangle \\langle 0| + |0\\rangle \\langle 1| + |1\\rangle \\langle 1|)\n",
    "$$"
   ],
   "metadata": {
    "collapsed": false
   }
  },
  {
   "cell_type": "code",
   "execution_count": 5,
   "outputs": [],
   "source": [
    "def make_Hadamard(nqubits):\n",
    "    Hadamard = QuantumCircuit(nqubits)\n",
    "    for i in range(nqubits):\n",
    "        Hadamard.add_gate(H(i))\n",
    "    return  Hadamard"
   ],
   "metadata": {
    "collapsed": false
   }
  },
  {
   "cell_type": "markdown",
   "source": [
    "このアダマールゲートを初期状態$|00 \\cdots 00\\rangle$に作用させる。\n",
    "$$\n",
    "|s\\rangle = (H\\otimes \\cdots \\otimes H)|0 \\cdots 0 \\rangle \\\\\n",
    "= \\frac{1}{(\\sqrt{2})^n}(|0\\rangle + |1\\rangle)\\otimes \\cdots \\otimes (|0\\rangle + |1\\rangle) \\\\\n",
    "= \\frac{1}{(\\sqrt{2})^n}(|00 \\cdots 00\\rangle + |00\\cdots 01\\rangle + \\cdots + |11 \\cdots 10\\rangle + |11\\cdots 11\\rangle)|s\\rangle \\\\\n",
    "= \\frac{1}{(\\sqrt{2})^n}\\sum^{2^n - 1}_{x = 0} |x\\rangle\n",
    "$$"
   ],
   "metadata": {
    "collapsed": false
   }
  },
  {
   "cell_type": "code",
   "execution_count": 6,
   "outputs": [
    {
     "data": {
      "text/plain": "<Figure size 432x288 with 1 Axes>",
      "image/png": "[encoded data removed]"
     },
     "metadata": {
      "needs_background": "light"
     },
     "output_type": "display_data"
    }
   ],
   "source": [
    "Hadamard = make_Hadamard(nqubits)\n",
    "Hadamard.update_quantum_state(state1)\n",
    "\n",
    "show_distribution(state1, nqubits)"
   ],
   "metadata": {
    "collapsed": false
   }
  },
  {
   "cell_type": "markdown",
   "source": [
    "次に解に対する反転操作をする、オラクル$U_w$を作成する。\n",
    "\n",
    "入力$|x\\rangle$に対して$x$が解なら、$-1$を掛けて位相を反転し、解でないなら$1$を掛ける。"
   ],
   "metadata": {
    "collapsed": false
   }
  },
  {
   "cell_type": "markdown",
   "source": [
    "$$\n",
    "\\begin{cases}\n",
    "    U_w|x\\rangle = |x\\rangle (x \\neq w) \\\\\n",
    "    U_w|w\\rangle = -|w\\rangle\n",
    "  \\end{cases}\n",
    "$$\n",
    "\n",
    "$$\n",
    "U_w = I - 2 \\sum_{w \\in \\text{解}} |w\\rangle \\langle w|\n",
    "$$"
   ],
   "metadata": {
    "collapsed": false
   }
  },
  {
   "cell_type": "code",
   "execution_count": 7,
   "outputs": [],
   "source": [
    "# オラクルU_wの作成\n",
    "def make_U_w(nqubits):\n",
    "    U_w = QuantumCircuit(nqubits)\n",
    "    CnZ = to_matrix_gate(Z(nqubits-1))\n",
    "    # i-th qubitが全て1の場合だけゲートを作用\n",
    "    for i in range(nqubits-1):\n",
    "        control_index = i\n",
    "        control_with_value = 1\n",
    "        CnZ.add_control_qubit(control_index, control_with_value)\n",
    "    U_w.add_gate(CnZ)\n",
    "    return U_w"
   ],
   "metadata": {
    "collapsed": false
   }
  },
  {
   "cell_type": "markdown",
   "source": [
    "これを作用させると$|s\\rangle$\n",
    "$$\n",
    "U_w |s\\rangle = \\frac{1}{(\\sqrt{2})^n} \\sum_{x = 0, x \\neq w}^{2^n - 1} U_w |x\\rangle + \\frac{1}{(\\sqrt{2})^n} U_w |x\\rangle \\\\\n",
    "\n",
    "= \\frac{1}{(\\sqrt{2})^n} \\sum_{x = 0, x \\neq w}^{2^n - 1} |x\\rangle - \\frac{1}{(\\sqrt{2})^n}|w\\rangle \\\\\n",
    "\n",
    "= \\left( |s\\rangle - \\frac{1}{(\\sqrt{2})^n} |w\\rangle \\right) - \\frac{1}{(\\sqrt{2})^n} |w\\rangle \\\\\n",
    "\n",
    "U_w |s\\rangle = |s\\rangle - \\frac{2}{(\\sqrt{2})^n} |w\\rangle\n",
    "$$\n",
    "\n",
    "となる。"
   ],
   "metadata": {
    "collapsed": false
   }
  },
  {
   "cell_type": "code",
   "execution_count": 8,
   "outputs": [
    {
     "name": "stdout",
     "output_type": "stream",
     "text": [
      " *** Quantum State ***\n",
      " * Qubit Count : 3\n",
      " * Dimension   : 8\n",
      " * State vector : \n",
      " (0.353553,0)\n",
      " (0.353553,0)\n",
      " (0.353553,0)\n",
      " (0.353553,0)\n",
      " (0.353553,0)\n",
      " (0.353553,0)\n",
      " (0.353553,0)\n",
      "(-0.353553,0)\n",
      "\n"
     ]
    }
   ],
   "source": [
    "fuga = state1.copy()\n",
    "U_w = make_U_w(nqubits)\n",
    "U_w.update_quantum_state(fuga)\n",
    "# print(fuga.get_vector())\n",
    "print(fuga)"
   ],
   "metadata": {
    "collapsed": false
   }
  },
  {
   "cell_type": "markdown",
   "source": [
    "最後に$|s\\rangle$を対象軸にした反転操作$U_s$を定義する\n",
    "\n",
    "$$\n",
    "U_s = 2|s\\rangle \\langle s| - I = H^{\\otimes n}(2 |0 \\cdots 0\\rangle \\langle 0 \\cdots 0| - I)H^{\\otimes n}\n",
    "$$\n",
    "\n",
    "$$\n",
    "\\begin{cases}\n",
    "    U_s |x\\rangle = 2\\langle s|x|s\\rangle - |x\\rangle = \\frac{2}{\\sqrt{2^n}} |x\\rangle \\\\\n",
    "    U_s |s\\rangle = 2\\langle s|s|s\\rangle - |s\\rangle = |s\\rangle\n",
    " \\end{cases}\n",
    "$$"
   ],
   "metadata": {
    "collapsed": false
   }
  },
  {
   "cell_type": "code",
   "execution_count": 9,
   "outputs": [],
   "source": [
    "# 反転U_sを作る\n",
    "def make_U_s(nqubits):\n",
    "    U_s = QuantumCircuit(nqubits)\n",
    "    for i in range(nqubits):\n",
    "        U_s.add_gate(H(i))\n",
    "\n",
    "    ## 2|0><0| - I の実装\n",
    "    U_s.add_gate(to_matrix_gate(RZ(nqubits-1, 2*np.pi))) ## まず、位相(-1)を全ての状態に付与する。ゲート行列はarrary([[-1,0],[0,-1]])\n",
    "    U_s.add_gate( X(nqubits-1) )\n",
    "    ## 全てのi-th qubitが0の場合だけZゲートを作用させる\n",
    "    CnZ = to_matrix_gate(Z(nqubits-1))\n",
    "    for i in range(nqubits-1):\n",
    "        control_index = i\n",
    "        control_with_value = 0\n",
    "        CnZ.add_control_qubit(control_index, control_with_value)\n",
    "    U_s.add_gate( CnZ )\n",
    "    U_s.add_gate( X(nqubits-1) )\n",
    "\n",
    "    for i in range(nqubits):\n",
    "        U_s.add_gate(H(i))\n",
    "\n",
    "    return U_s"
   ],
   "metadata": {
    "collapsed": false
   }
  },
  {
   "cell_type": "code",
   "execution_count": 10,
   "outputs": [
    {
     "data": {
      "text/plain": "<Figure size 432x288 with 1 Axes>",
      "image/png": "[encoded data removed]"
     },
     "metadata": {
      "needs_background": "light"
     },
     "output_type": "display_data"
    }
   ],
   "source": [
    "## 初期状態の準備\n",
    "state1 = QuantumState(nqubits)\n",
    "state1.set_zero_state()\n",
    "Hadamard.update_quantum_state(state1)\n",
    "\n",
    "## U_s U_w を作用\n",
    "U_s = make_U_s(nqubits)\n",
    "U_w.update_quantum_state(state1)\n",
    "U_s.update_quantum_state(state1)\n",
    "show_distribution(state1, nqubits)"
   ],
   "metadata": {
    "collapsed": false
   }
  },
  {
   "cell_type": "code",
   "execution_count": 11,
   "outputs": [
    {
     "data": {
      "text/plain": "<Figure size 432x288 with 1 Axes>",
      "image/png": "[encoded data removed]"
     },
     "metadata": {
      "needs_background": "light"
     },
     "output_type": "display_data"
    },
    {
     "name": "stdout",
     "output_type": "stream",
     "text": [
      "0.8838834764831837\n"
     ]
    },
    {
     "data": {
      "text/plain": "<Figure size 432x288 with 1 Axes>",
      "image/png": "[encoded data removed]"
     },
     "metadata": {
      "needs_background": "light"
     },
     "output_type": "display_data"
    },
    {
     "name": "stdout",
     "output_type": "stream",
     "text": [
      "0.9722718241315015\n"
     ]
    },
    {
     "data": {
      "text/plain": "<Figure size 432x288 with 1 Axes>",
      "image/png": "[encoded data removed]"
     },
     "metadata": {
      "needs_background": "light"
     },
     "output_type": "display_data"
    },
    {
     "name": "stdout",
     "output_type": "stream",
     "text": [
      "0.5745242597140687\n"
     ]
    },
    {
     "data": {
      "text/plain": "<Figure size 432x288 with 1 Axes>",
      "image/png": "[encoded data removed]"
     },
     "metadata": {
      "needs_background": "light"
     },
     "output_type": "display_data"
    },
    {
     "name": "stdout",
     "output_type": "stream",
     "text": [
      "0.11048543456039785\n"
     ]
    }
   ],
   "source": [
    "# 何回か繰り返す\n",
    "## 内積を評価するために 解状態 |1...1> を作っておく\n",
    "target_state = QuantumState(nqubits)\n",
    "target_state.set_computational_basis(2**nqubits-1) ## 2**n_qubits-1 は 2進数で 1...1\n",
    "\n",
    "## グローバーのアルゴリズムの実行\n",
    "state1 = QuantumState(nqubits)\n",
    "state1.set_zero_state()\n",
    "\n",
    "Hadamard.update_quantum_state(state1)\n",
    "\n",
    "avg_result = []\n",
    "for i in range(4):\n",
    "    U_w.update_quantum_state(state1)\n",
    "    U_s.update_quantum_state(state1)\n",
    "    show_distribution(state1, nqubits)\n",
    "    fuga = np.linalg.norm(inner_product(state1, target_state))\n",
    "    avg_result.append(fuga)\n",
    "    print(fuga)"
   ],
   "metadata": {
    "collapsed": false
   }
  },
  {
   "cell_type": "code",
   "execution_count": 12,
   "outputs": [
    {
     "name": "stdout",
     "output_type": "stream",
     "text": [
      "0.8838834764831837\n",
      "0.9722718241315015\n",
      "0.5745242597140687\n",
      "0.11048543456039785\n"
     ]
    },
    {
     "data": {
      "text/plain": "[<matplotlib.lines.Line2D at 0x131a87ee0>]"
     },
     "execution_count": 12,
     "metadata": {},
     "output_type": "execute_result"
    },
    {
     "data": {
      "text/plain": "<Figure size 432x288 with 1 Axes>",
      "image/png": "[encoded data removed]"
     },
     "metadata": {
      "needs_background": "light"
     },
     "output_type": "display_data"
    }
   ],
   "source": [
    "## 初期状態の準備\n",
    "state1 = QuantumState(nqubits)\n",
    "state1.set_zero_state()\n",
    "Hadamard.update_quantum_state(state1)\n",
    "\n",
    "avg_result = []\n",
    "hoge = np.linalg.norm(inner_product(state1, target_state))\n",
    "avg_result.append(hoge)\n",
    "for i in range(times):\n",
    "    U_w.update_quantum_state(state1)\n",
    "    U_s.update_quantum_state(state1)\n",
    "    fuga = np.linalg.norm(inner_product(state1, target_state))\n",
    "    avg_result.append(fuga)\n",
    "    print(fuga)\n",
    "\n",
    "plt.xlabel('オラクルの試行回数k')\n",
    "plt.ylabel('|11...11>の確率振幅')\n",
    "plt.ylim(0, 1)\n",
    "plt.xticks(np.arange(0, 5, step=1))\n",
    "plt.plot(avg_result, \"o-\")"
   ],
   "metadata": {
    "collapsed": false
   }
  },
  {
   "cell_type": "code",
   "execution_count": 13,
   "outputs": [],
   "source": [
    "# グローバーのアルゴリズム\n",
    "def grover(nqubits, operate_times):\n",
    "    state = QuantumState(nqubits)\n",
    "    state.set_zero_state()\n",
    "\n",
    "    # 内積を評価するために 解状態 |1...1> を作っておく\n",
    "    target_state = QuantumState(nqubits)\n",
    "    target_state.set_computational_basis(2 ** nqubits - 1) # 2**n_qubits-1 は 2進数で 1...1\n",
    "\n",
    "    # グローバーのアルゴリズムの実行\n",
    "    Hadamard = make_Hadamard(nqubits)\n",
    "    U_w = make_U_w(nqubits)\n",
    "    U_s = make_U_s(nqubits)\n",
    "\n",
    "    result = []\n",
    "\n",
    "    state = QuantumState(nqubits)\n",
    "    state.set_zero_state()\n",
    "    Hadamard.update_quantum_state(state)\n",
    "    hoge = np.linalg.norm(inner_product(state, target_state))\n",
    "    result.append(hoge)\n",
    "    for k in range(operate_times):\n",
    "        U_w.update_quantum_state(state)\n",
    "        U_s.update_quantum_state(state)\n",
    "        fuga = np.linalg.norm(inner_product(state, target_state))\n",
    "        result.append(fuga)\n",
    "        print(fuga)\n",
    "\n",
    "\n",
    "    max_k = np.argmax(result)\n",
    "    print(f'maximal probability {result[max_k]:5e} is obtained at k = {max_k}')\n",
    "\n",
    "    plt.plot(result, \"o-\")\n",
    "    plt.xlabel('オラクルの試行回数k')\n",
    "    plt.ylabel('|11...11>の確率振幅')\n",
    "    plt.ylim(0, 1)\n",
    "    plt.xticks(np.arange(0, 5, step=1))\n",
    "    plt.show()"
   ],
   "metadata": {
    "collapsed": false
   }
  },
  {
   "cell_type": "code",
   "execution_count": 14,
   "outputs": [
    {
     "name": "stdout",
     "output_type": "stream",
     "text": [
      "0.8838834764831837\n",
      "0.9722718241315015\n",
      "0.5745242597140687\n",
      "0.11048543456039785\n",
      "maximal probability 9.722718e-01 is obtained at k = 2\n"
     ]
    },
    {
     "data": {
      "text/plain": "<Figure size 432x288 with 1 Axes>",
      "image/png": "[encoded data removed]"
     },
     "metadata": {
      "needs_background": "light"
     },
     "output_type": "display_data"
    }
   ],
   "source": [
    "grover(nqubits, times)\n"
   ],
   "metadata": {
    "collapsed": false
   }
  },
  {
   "cell_type": "markdown",
   "source": [
    "## 任意の回転ゲート\n",
    "任意の回転ゲートでアダマール演算子を作成する\n",
    "\n",
    "Qulacsでは任意の回転ゲートを作成する際に、IBMQのOpenQASMを使用する。"
   ],
   "metadata": {
    "collapsed": false
   }
  },
  {
   "cell_type": "markdown",
   "source": [
    "以下のコードは、\n",
    "`U3(対象ビットの添字, \\theta, \\psi, \\lambda)`となっている。\n",
    "[参考資料](http://docs.qulacs.org/ja/latest/guide/2.0_python_advanced.html#id24)\n",
    "また、対象ビットの添字はQulacsの仕様上、$|00 \\cdots 00\\rangle$である場合、一番右から0番目の量子ビットになる\n",
    "[参考資料](https://docs.qulacs.org/ja/latest/intro/4.1_python_tutorial.html?highlight=%E5%AF%BE%E8%B1%A1%E3%83%93%E3%83%83%E3%83%88%E3%81%AE%E6%B7%BB%E3%81%88%E5%AD%97#id3)\n",
    "\n",
    "$$\n",
    "U(\\theta, \\phi, \\lambda) = \\begin{pmatrix}\n",
    "\\cos{\\frac{\\theta}{2}} & -e^{i \\lambda} \\sin{\\frac{\\theta}{2}} \\\\\n",
    "e^{i \\phi}\\cos{\\frac{\\theta}{2}} & e^{i (\\lambda + \\phi)}\\cos{\\frac{\\theta}{2}}\n",
    "\\end{pmatrix}\n",
    "$$"
   ],
   "metadata": {
    "collapsed": false
   }
  },
  {
   "cell_type": "code",
   "execution_count": 20,
   "outputs": [
    {
     "name": "stdout",
     "output_type": "stream",
     "text": [
      " *** gate info *** \n",
      " * gate name : DenseMatrix\n",
      " * target    : \n",
      " 0 : commute       \n",
      " * control   : \n",
      " * Pauli     : no\n",
      " * Clifford  : no\n",
      " * Gaussian  : no\n",
      " * Parametric: no\n",
      " * Diagonal  : no\n",
      " * Matrix\n",
      "           (0.707107,0) (0.707107,-8.65956e-17)\n",
      "           (0.707107,0) (-0.707107,8.65956e-17)\n",
      "\n"
     ]
    }
   ],
   "source": [
    "from qulacs.gate import U3\n",
    "print(U3(0, np.pi/2, 0, np.pi))"
   ],
   "metadata": {
    "collapsed": false
   }
  },
  {
   "cell_type": "markdown",
   "source": [
    "### 任意の回転ゲートを利用してアダマールゲートを作成\n",
    "上記の内容を踏まえてアダマールゲートを作成する。\n",
    "$$\n",
    "H = \\frac{1}{\\sqrt{2}}\\begin{pmatrix}\n",
    "1 & 1 \\\\\n",
    "1 & -1\n",
    "\\end{pmatrix}\\\\\n",
    "= \\begin{pmatrix}\n",
    "\\cos{\\frac{\\pi}{4}} & -e^{i \\pi} \\sin{\\frac{\\pi}{4}} \\\\\n",
    "e^{i 0}\\cos{\\frac{\\pi}{4}} & e^{i (\\pi + 0)}\\cos{\\frac{\\pi}{4}}\n",
    "\\end{pmatrix} \\\\\n",
    "= U(\\frac{\\pi}{2}, 0, \\pi)\n",
    "$$\n",
    "これを用いて、以下のように作成する。\n"
   ],
   "metadata": {
    "collapsed": false
   }
  },
  {
   "cell_type": "code",
   "execution_count": 16,
   "outputs": [],
   "source": [
    "def make_revolution_Hadamard(nqubits):\n",
    "    U_3 = QuantumCircuit(nqubits)\n",
    "    THETA = np.pi/2\n",
    "    PHI = 0\n",
    "    LAMBDA = np.pi\n",
    "    # 全てのqubitにゲートを作用\n",
    "    for i in range(nqubits):\n",
    "        control_index = i\n",
    "        U_3.add_gate(U3(control_index, THETA, PHI, LAMBDA))\n",
    "    return U_3"
   ],
   "metadata": {
    "collapsed": false
   }
  },
  {
   "cell_type": "markdown",
   "source": [
    "試しに、通常のアダマール演算子と比較してみる。"
   ],
   "metadata": {
    "collapsed": false
   }
  },
  {
   "cell_type": "code",
   "execution_count": 17,
   "outputs": [
    {
     "data": {
      "text/plain": "<Figure size 432x288 with 1 Axes>",
      "image/png": "[encoded data removed]"
     },
     "metadata": {
      "needs_background": "light"
     },
     "output_type": "display_data"
    },
    {
     "name": "stdout",
     "output_type": "stream",
     "text": [
      "1.5707963267948966\n",
      "3.141592653589793\n",
      "3.141592653589793\n",
      "0\n",
      "1\n",
      "2\n"
     ]
    },
    {
     "data": {
      "text/plain": "<Figure size 432x288 with 1 Axes>",
      "image/png": "[encoded data removed]"
     },
     "metadata": {
      "needs_background": "light"
     },
     "output_type": "display_data"
    },
    {
     "name": "stdout",
     "output_type": "stream",
     "text": [
      "[0.35355339+0.j 0.35355339+0.j 0.35355339+0.j 0.35355339+0.j\n",
      " 0.35355339+0.j 0.35355339+0.j 0.35355339+0.j 0.35355339+0.j]\n",
      "[0.35355339+0.j 0.35355339+0.j 0.35355339+0.j 0.35355339+0.j\n",
      " 0.35355339+0.j 0.35355339+0.j 0.35355339+0.j 0.35355339+0.j]\n"
     ]
    }
   ],
   "source": [
    "# 通常のアダマール演算子を作成し、 初期化した3量子ビットに作用\n",
    "Hadamard = make_Hadamard(3)\n",
    "state1 = QuantumState(3)\n",
    "state1.set_zero_state()\n",
    "Hadamard.update_quantum_state(state1)\n",
    "show_distribution(state1, 3)\n",
    "\n",
    "# アダマール演算子と同じ振る舞いをするよう作成した回転ゲートを、\n",
    "# 初期化した3量子ビットに作用\n",
    "revolution_Hadamard = make_revolution_Hadamard(3)\n",
    "state2 = QuantumState(3)\n",
    "state2.set_zero_state()\n",
    "revolution_Hadamard.update_quantum_state(state2)\n",
    "show_distribution(state2, 3)\n",
    "\n",
    "print(state1.get_vector())\n",
    "print(state2.get_vector())\n"
   ],
   "metadata": {
    "collapsed": false
   }
  },
  {
   "cell_type": "markdown",
   "source": [
    "どのくらいの誤差があるか調べる。"
   ],
   "metadata": {
    "collapsed": false
   }
  },
  {
   "cell_type": "code",
   "execution_count": 21,
   "outputs": [
    {
     "name": "stdout",
     "output_type": "stream",
     "text": [
      "絶対誤差：[(0.14644660940672644+0j), (-0.3535533905932737+0j), (0.14644660940672632+0j), (-0.3535533905932737+0j), (0.14644660940672632+0j), (-0.3535533905932737+0j), (0.1464466094067262+0j), (-0.3535533905932737+0j)]\n",
      "相対誤差：[(0.4142135623730957+0j), (-1+0j), (0.41421356237309537+0j), (-1+0j), (0.41421356237309537+0j), (-1+0j), (0.4142135623730951+0j), (-1+0j)]\n"
     ]
    }
   ],
   "source": [
    "state1.get_vector() == state2.get_vector()\n",
    "# 誤差\n",
    "absolute_error_array = []\n",
    "relative_error_array = []\n",
    "for i in range(len(state1.get_vector())):\n",
    "    absolute_error = state2.get_vector()[i] - state1.get_vector()[i]\n",
    "    absolute_error_array.append(absolute_error)\n",
    "    relative_error = absolute_error / state1.get_vector()[i]\n",
    "    relative_error_array.append(relative_error)\n",
    "\n",
    "print(f'絶対誤差：{absolute_error_array}')\n",
    "print(f'相対誤差：{relative_error_array}')\n"
   ],
   "metadata": {
    "collapsed": false
   }
  },
  {
   "cell_type": "code",
   "execution_count": 19,
   "outputs": [],
   "source": [],
   "metadata": {
    "collapsed": false
   }
  }
 ],
 "metadata": {
  "kernelspec": {
   "display_name": "Python 3",
   "language": "python",
   "name": "python3"
  },
  "language_info": {
   "codemirror_mode": {
    "name": "ipython",
    "version": 2
   },
   "file_extension": ".py",
   "mimetype": "text/x-python",
   "name": "python",
   "nbconvert_exporter": "python",
   "pygments_lexer": "ipython2",
   "version": "2.7.6"
  }
 },
 "nbformat": 4,
 "nbformat_minor": 0
}
